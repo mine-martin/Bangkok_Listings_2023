{
 "cells": [
  {
   "cell_type": "code",
   "execution_count": 1,
   "metadata": {},
   "outputs": [
    {
     "name": "stdout",
     "output_type": "stream",
     "text": [
      "Requirement already satisfied: pandas in c:\\users\\mine\\appdata\\local\\programs\\python\\python311\\lib\\site-packages (2.0.1)\n",
      "Requirement already satisfied: python-dateutil>=2.8.2 in c:\\users\\mine\\appdata\\roaming\\python\\python311\\site-packages (from pandas) (2.8.2)\n",
      "Requirement already satisfied: pytz>=2020.1 in c:\\users\\mine\\appdata\\local\\programs\\python\\python311\\lib\\site-packages (from pandas) (2023.3)\n",
      "Requirement already satisfied: tzdata>=2022.1 in c:\\users\\mine\\appdata\\local\\programs\\python\\python311\\lib\\site-packages (from pandas) (2023.3)\n",
      "Requirement already satisfied: numpy>=1.21.0 in c:\\users\\mine\\appdata\\local\\programs\\python\\python311\\lib\\site-packages (from pandas) (1.24.3)\n",
      "Requirement already satisfied: six>=1.5 in c:\\users\\mine\\appdata\\roaming\\python\\python311\\site-packages (from python-dateutil>=2.8.2->pandas) (1.16.0)\n",
      "Note: you may need to restart the kernel to use updated packages.\n"
     ]
    }
   ],
   "source": [
    "%pip install pandas\n",
    "\n",
    "# import pandas library\n",
    "import pandas as pd"
   ]
  },
  {
   "attachments": {},
   "cell_type": "markdown",
   "metadata": {},
   "source": [
    "Read the CSV file and read the data into a dataframe."
   ]
  },
  {
   "cell_type": "code",
   "execution_count": 2,
   "metadata": {},
   "outputs": [],
   "source": [
    "# import pandas library\n",
    "import pandas as pd"
   ]
  },
  {
   "cell_type": "code",
   "execution_count": 3,
   "metadata": {},
   "outputs": [],
   "source": [
    "#read in the csv file as a pandas dataframe\n",
    "airBNB = pd.read_csv(\"Bangkok_Listings_2023.csv\")\n"
   ]
  },
  {
   "attachments": {},
   "cell_type": "markdown",
   "metadata": {},
   "source": [
    "Expore the current dataframe and return the new dataframe with data columns."
   ]
  },
  {
   "cell_type": "code",
   "execution_count": 5,
   "metadata": {},
   "outputs": [
    {
     "name": "stdout",
     "output_type": "stream",
     "text": [
      "<class 'pandas.core.frame.DataFrame'>\n",
      "RangeIndex: 17396 entries, 0 to 17395\n",
      "Data columns (total 18 columns):\n",
      " #   Column                          Non-Null Count  Dtype  \n",
      "---  ------                          --------------  -----  \n",
      " 0   id                              17396 non-null  int64  \n",
      " 1   name                            17388 non-null  object \n",
      " 2   host_id                         17396 non-null  int64  \n",
      " 3   host_name                       17395 non-null  object \n",
      " 4   neighbourhood_group             0 non-null      float64\n",
      " 5   neighbourhood                   17396 non-null  object \n",
      " 6   latitude                        17396 non-null  float64\n",
      " 7   longitude                       17396 non-null  float64\n",
      " 8   room_type                       17396 non-null  object \n",
      " 9   price                           17396 non-null  int64  \n",
      " 10  minimum_nights                  17396 non-null  int64  \n",
      " 11  number_of_reviews               17396 non-null  int64  \n",
      " 12  last_review                     11214 non-null  object \n",
      " 13  reviews_per_month               11214 non-null  float64\n",
      " 14  calculated_host_listings_count  17396 non-null  int64  \n",
      " 15  availability_365                17396 non-null  int64  \n",
      " 16  number_of_reviews_ltm           17396 non-null  int64  \n",
      " 17  license                         0 non-null      float64\n",
      "dtypes: float64(5), int64(8), object(5)\n",
      "memory usage: 2.4+ MB\n"
     ]
    },
    {
     "data": {
      "text/plain": [
       "(17396, 18)"
      ]
     },
     "execution_count": 5,
     "metadata": {},
     "output_type": "execute_result"
    }
   ],
   "source": [
    "airBNB.info()\n",
    "\n",
    "airBNB.shape"
   ]
  },
  {
   "attachments": {},
   "cell_type": "markdown",
   "metadata": {},
   "source": [
    "Correcting Inconsistent Data and also Removing Duplicates from the DataSet.\n"
   ]
  },
  {
   "cell_type": "code",
   "execution_count": 6,
   "metadata": {},
   "outputs": [],
   "source": [
    "#remove the duplicates from the original dataset.\n",
    "airBNB.drop_duplicates(inplace=True)\n",
    "\n",
    "#collect all the inconsistencies data.\n",
    "airBNB['room_type'].replace('Shared room', 'Shared', inplace=True)"
   ]
  },
  {
   "attachments": {},
   "cell_type": "markdown",
   "metadata": {},
   "source": [
    "remove the license,  last_review,  number_of_reviews_ltm, neighbourhood_group"
   ]
  },
  {
   "cell_type": "code",
   "execution_count": 7,
   "metadata": {},
   "outputs": [],
   "source": [
    "columns_to_drop = ['license', 'last_review', 'number_of_reviews_ltm', 'neighbourhood_group']\n",
    "\n",
    "airBNB.drop(columns=columns_to_drop, inplace=True)"
   ]
  },
  {
   "cell_type": "code",
   "execution_count": 8,
   "metadata": {},
   "outputs": [
    {
     "name": "stdout",
     "output_type": "stream",
     "text": [
      "<class 'pandas.core.frame.DataFrame'>\n",
      "RangeIndex: 17396 entries, 0 to 17395\n",
      "Data columns (total 14 columns):\n",
      " #   Column                          Non-Null Count  Dtype  \n",
      "---  ------                          --------------  -----  \n",
      " 0   id                              17396 non-null  int64  \n",
      " 1   name                            17388 non-null  object \n",
      " 2   host_id                         17396 non-null  int64  \n",
      " 3   host_name                       17395 non-null  object \n",
      " 4   neighbourhood                   17396 non-null  object \n",
      " 5   latitude                        17396 non-null  float64\n",
      " 6   longitude                       17396 non-null  float64\n",
      " 7   room_type                       17396 non-null  object \n",
      " 8   price                           17396 non-null  int64  \n",
      " 9   minimum_nights                  17396 non-null  int64  \n",
      " 10  number_of_reviews               17396 non-null  int64  \n",
      " 11  reviews_per_month               11214 non-null  float64\n",
      " 12  calculated_host_listings_count  17396 non-null  int64  \n",
      " 13  availability_365                17396 non-null  int64  \n",
      "dtypes: float64(3), int64(7), object(4)\n",
      "memory usage: 1.9+ MB\n"
     ]
    },
    {
     "data": {
      "text/plain": [
       "(17396, 14)"
      ]
     },
     "execution_count": 8,
     "metadata": {},
     "output_type": "execute_result"
    }
   ],
   "source": [
    "airBNB.info()\n",
    "\n",
    "airBNB.shape"
   ]
  },
  {
   "cell_type": "code",
   "execution_count": 9,
   "metadata": {},
   "outputs": [
    {
     "data": {
      "text/html": [
       "<div>\n",
       "<style scoped>\n",
       "    .dataframe tbody tr th:only-of-type {\n",
       "        vertical-align: middle;\n",
       "    }\n",
       "\n",
       "    .dataframe tbody tr th {\n",
       "        vertical-align: top;\n",
       "    }\n",
       "\n",
       "    .dataframe thead th {\n",
       "        text-align: right;\n",
       "    }\n",
       "</style>\n",
       "<table border=\"1\" class=\"dataframe\">\n",
       "  <thead>\n",
       "    <tr style=\"text-align: right;\">\n",
       "      <th></th>\n",
       "      <th>id</th>\n",
       "      <th>name</th>\n",
       "      <th>host_id</th>\n",
       "      <th>host_name</th>\n",
       "      <th>neighbourhood</th>\n",
       "      <th>latitude</th>\n",
       "      <th>longitude</th>\n",
       "      <th>room_type</th>\n",
       "      <th>price</th>\n",
       "      <th>minimum_nights</th>\n",
       "      <th>number_of_reviews</th>\n",
       "      <th>reviews_per_month</th>\n",
       "      <th>calculated_host_listings_count</th>\n",
       "      <th>availability_365</th>\n",
       "    </tr>\n",
       "  </thead>\n",
       "  <tbody>\n",
       "    <tr>\n",
       "      <th>0</th>\n",
       "      <td>27934</td>\n",
       "      <td>Nice room with superb city view</td>\n",
       "      <td>120437</td>\n",
       "      <td>Nuttee</td>\n",
       "      <td>Ratchathewi</td>\n",
       "      <td>13.75983</td>\n",
       "      <td>100.54134</td>\n",
       "      <td>Entire home/apt</td>\n",
       "      <td>1885</td>\n",
       "      <td>3</td>\n",
       "      <td>65</td>\n",
       "      <td>0.49</td>\n",
       "      <td>2</td>\n",
       "      <td>362</td>\n",
       "    </tr>\n",
       "    <tr>\n",
       "      <th>1</th>\n",
       "      <td>27979</td>\n",
       "      <td>Easy going landlord,easy place</td>\n",
       "      <td>120541</td>\n",
       "      <td>Emy</td>\n",
       "      <td>Bang Na</td>\n",
       "      <td>13.66818</td>\n",
       "      <td>100.61674</td>\n",
       "      <td>Private room</td>\n",
       "      <td>1307</td>\n",
       "      <td>1</td>\n",
       "      <td>0</td>\n",
       "      <td>NaN</td>\n",
       "      <td>2</td>\n",
       "      <td>358</td>\n",
       "    </tr>\n",
       "    <tr>\n",
       "      <th>2</th>\n",
       "      <td>28745</td>\n",
       "      <td>modern-style apartment in Bangkok</td>\n",
       "      <td>123784</td>\n",
       "      <td>Familyroom</td>\n",
       "      <td>Bang Kapi</td>\n",
       "      <td>13.75232</td>\n",
       "      <td>100.62402</td>\n",
       "      <td>Private room</td>\n",
       "      <td>800</td>\n",
       "      <td>60</td>\n",
       "      <td>0</td>\n",
       "      <td>NaN</td>\n",
       "      <td>1</td>\n",
       "      <td>365</td>\n",
       "    </tr>\n",
       "    <tr>\n",
       "      <th>3</th>\n",
       "      <td>35780</td>\n",
       "      <td>Spacious one bedroom at The Kris Condo Bldg. 3</td>\n",
       "      <td>153730</td>\n",
       "      <td>Sirilak</td>\n",
       "      <td>Din Daeng</td>\n",
       "      <td>13.78823</td>\n",
       "      <td>100.57256</td>\n",
       "      <td>Private room</td>\n",
       "      <td>1286</td>\n",
       "      <td>7</td>\n",
       "      <td>3</td>\n",
       "      <td>0.04</td>\n",
       "      <td>1</td>\n",
       "      <td>358</td>\n",
       "    </tr>\n",
       "    <tr>\n",
       "      <th>4</th>\n",
       "      <td>906203</td>\n",
       "      <td>1 BR on Srinakrin Rd. Parkland</td>\n",
       "      <td>4850305</td>\n",
       "      <td>Dujdao</td>\n",
       "      <td>Bang Na</td>\n",
       "      <td>13.65441</td>\n",
       "      <td>100.64548</td>\n",
       "      <td>Private room</td>\n",
       "      <td>791</td>\n",
       "      <td>1</td>\n",
       "      <td>0</td>\n",
       "      <td>NaN</td>\n",
       "      <td>1</td>\n",
       "      <td>365</td>\n",
       "    </tr>\n",
       "  </tbody>\n",
       "</table>\n",
       "</div>"
      ],
      "text/plain": [
       "       id                                            name  host_id   \n",
       "0   27934                 Nice room with superb city view   120437  \\\n",
       "1   27979                  Easy going landlord,easy place   120541   \n",
       "2   28745               modern-style apartment in Bangkok   123784   \n",
       "3   35780  Spacious one bedroom at The Kris Condo Bldg. 3   153730   \n",
       "4  906203                  1 BR on Srinakrin Rd. Parkland  4850305   \n",
       "\n",
       "    host_name neighbourhood  latitude  longitude        room_type  price   \n",
       "0      Nuttee   Ratchathewi  13.75983  100.54134  Entire home/apt   1885  \\\n",
       "1         Emy       Bang Na  13.66818  100.61674     Private room   1307   \n",
       "2  Familyroom     Bang Kapi  13.75232  100.62402     Private room    800   \n",
       "3     Sirilak     Din Daeng  13.78823  100.57256     Private room   1286   \n",
       "4      Dujdao       Bang Na  13.65441  100.64548     Private room    791   \n",
       "\n",
       "   minimum_nights  number_of_reviews  reviews_per_month   \n",
       "0               3                 65               0.49  \\\n",
       "1               1                  0                NaN   \n",
       "2              60                  0                NaN   \n",
       "3               7                  3               0.04   \n",
       "4               1                  0                NaN   \n",
       "\n",
       "   calculated_host_listings_count  availability_365  \n",
       "0                               2               362  \n",
       "1                               2               358  \n",
       "2                               1               365  \n",
       "3                               1               358  \n",
       "4                               1               365  "
      ]
     },
     "execution_count": 9,
     "metadata": {},
     "output_type": "execute_result"
    }
   ],
   "source": [
    "#check the head of the df\n",
    "airBNB.head()"
   ]
  },
  {
   "cell_type": "code",
   "execution_count": 11,
   "metadata": {},
   "outputs": [
    {
     "data": {
      "text/html": [
       "<div>\n",
       "<style scoped>\n",
       "    .dataframe tbody tr th:only-of-type {\n",
       "        vertical-align: middle;\n",
       "    }\n",
       "\n",
       "    .dataframe tbody tr th {\n",
       "        vertical-align: top;\n",
       "    }\n",
       "\n",
       "    .dataframe thead th {\n",
       "        text-align: right;\n",
       "    }\n",
       "</style>\n",
       "<table border=\"1\" class=\"dataframe\">\n",
       "  <thead>\n",
       "    <tr style=\"text-align: right;\">\n",
       "      <th></th>\n",
       "      <th>id</th>\n",
       "      <th>name</th>\n",
       "      <th>host_id</th>\n",
       "      <th>host_name</th>\n",
       "      <th>neighbourhood</th>\n",
       "      <th>latitude</th>\n",
       "      <th>longitude</th>\n",
       "      <th>room_type</th>\n",
       "      <th>price</th>\n",
       "      <th>minimum_nights</th>\n",
       "      <th>number_of_reviews</th>\n",
       "      <th>reviews_per_month</th>\n",
       "      <th>calculated_host_listings_count</th>\n",
       "      <th>availability_365</th>\n",
       "    </tr>\n",
       "  </thead>\n",
       "  <tbody>\n",
       "    <tr>\n",
       "      <th>0</th>\n",
       "      <td>27934</td>\n",
       "      <td>Nice room with superb city view</td>\n",
       "      <td>120437</td>\n",
       "      <td>Nuttee</td>\n",
       "      <td>Ratchathewi</td>\n",
       "      <td>13.75983</td>\n",
       "      <td>100.54134</td>\n",
       "      <td>Entire home/apt</td>\n",
       "      <td>1885</td>\n",
       "      <td>3</td>\n",
       "      <td>65</td>\n",
       "      <td>0.49</td>\n",
       "      <td>2</td>\n",
       "      <td>362</td>\n",
       "    </tr>\n",
       "    <tr>\n",
       "      <th>1</th>\n",
       "      <td>27979</td>\n",
       "      <td>Easy going landlord,easy place</td>\n",
       "      <td>120541</td>\n",
       "      <td>Emy</td>\n",
       "      <td>Bang Na</td>\n",
       "      <td>13.66818</td>\n",
       "      <td>100.61674</td>\n",
       "      <td>Private room</td>\n",
       "      <td>1307</td>\n",
       "      <td>1</td>\n",
       "      <td>0</td>\n",
       "      <td>0.00</td>\n",
       "      <td>2</td>\n",
       "      <td>358</td>\n",
       "    </tr>\n",
       "    <tr>\n",
       "      <th>2</th>\n",
       "      <td>28745</td>\n",
       "      <td>modern-style apartment in Bangkok</td>\n",
       "      <td>123784</td>\n",
       "      <td>Familyroom</td>\n",
       "      <td>Bang Kapi</td>\n",
       "      <td>13.75232</td>\n",
       "      <td>100.62402</td>\n",
       "      <td>Private room</td>\n",
       "      <td>800</td>\n",
       "      <td>60</td>\n",
       "      <td>0</td>\n",
       "      <td>0.00</td>\n",
       "      <td>1</td>\n",
       "      <td>365</td>\n",
       "    </tr>\n",
       "    <tr>\n",
       "      <th>3</th>\n",
       "      <td>35780</td>\n",
       "      <td>Spacious one bedroom at The Kris Condo Bldg. 3</td>\n",
       "      <td>153730</td>\n",
       "      <td>Sirilak</td>\n",
       "      <td>Din Daeng</td>\n",
       "      <td>13.78823</td>\n",
       "      <td>100.57256</td>\n",
       "      <td>Private room</td>\n",
       "      <td>1286</td>\n",
       "      <td>7</td>\n",
       "      <td>3</td>\n",
       "      <td>0.04</td>\n",
       "      <td>1</td>\n",
       "      <td>358</td>\n",
       "    </tr>\n",
       "    <tr>\n",
       "      <th>4</th>\n",
       "      <td>906203</td>\n",
       "      <td>1 BR on Srinakrin Rd. Parkland</td>\n",
       "      <td>4850305</td>\n",
       "      <td>Dujdao</td>\n",
       "      <td>Bang Na</td>\n",
       "      <td>13.65441</td>\n",
       "      <td>100.64548</td>\n",
       "      <td>Private room</td>\n",
       "      <td>791</td>\n",
       "      <td>1</td>\n",
       "      <td>0</td>\n",
       "      <td>0.00</td>\n",
       "      <td>1</td>\n",
       "      <td>365</td>\n",
       "    </tr>\n",
       "  </tbody>\n",
       "</table>\n",
       "</div>"
      ],
      "text/plain": [
       "       id                                            name  host_id   \n",
       "0   27934                 Nice room with superb city view   120437  \\\n",
       "1   27979                  Easy going landlord,easy place   120541   \n",
       "2   28745               modern-style apartment in Bangkok   123784   \n",
       "3   35780  Spacious one bedroom at The Kris Condo Bldg. 3   153730   \n",
       "4  906203                  1 BR on Srinakrin Rd. Parkland  4850305   \n",
       "\n",
       "    host_name neighbourhood  latitude  longitude        room_type  price   \n",
       "0      Nuttee   Ratchathewi  13.75983  100.54134  Entire home/apt   1885  \\\n",
       "1         Emy       Bang Na  13.66818  100.61674     Private room   1307   \n",
       "2  Familyroom     Bang Kapi  13.75232  100.62402     Private room    800   \n",
       "3     Sirilak     Din Daeng  13.78823  100.57256     Private room   1286   \n",
       "4      Dujdao       Bang Na  13.65441  100.64548     Private room    791   \n",
       "\n",
       "   minimum_nights  number_of_reviews  reviews_per_month   \n",
       "0               3                 65               0.49  \\\n",
       "1               1                  0               0.00   \n",
       "2              60                  0               0.00   \n",
       "3               7                  3               0.04   \n",
       "4               1                  0               0.00   \n",
       "\n",
       "   calculated_host_listings_count  availability_365  \n",
       "0                               2               362  \n",
       "1                               2               358  \n",
       "2                               1               365  \n",
       "3                               1               358  \n",
       "4                               1               365  "
      ]
     },
     "execution_count": 11,
     "metadata": {},
     "output_type": "execute_result"
    }
   ],
   "source": [
    "airBNB['reviews_per_month'].fillna(0, inplace=True)\n",
    "\n",
    "#check the head of the df\n",
    "airBNB.head()"
   ]
  },
  {
   "attachments": {},
   "cell_type": "markdown",
   "metadata": {},
   "source": []
  },
  {
   "cell_type": "code",
   "execution_count": 12,
   "metadata": {},
   "outputs": [
    {
     "name": "stdout",
     "output_type": "stream",
     "text": [
      "Requirement already satisfied: openpyxl in c:\\users\\mine\\appdata\\local\\programs\\python\\python311\\lib\\site-packages (3.1.2)\n",
      "Requirement already satisfied: et-xmlfile in c:\\users\\mine\\appdata\\local\\programs\\python\\python311\\lib\\site-packages (from openpyxl) (1.1.0)\n",
      "Note: you may need to restart the kernel to use updated packages.\n"
     ]
    }
   ],
   "source": [
    "%pip install openpyxl\n",
    "\n",
    "\n",
    "# writing the final dataframe to an excel file\n",
    "airBNB.to_excel('Bangkok_Listings_2023.xlsx', sheet_name='Data')"
   ]
  },
  {
   "cell_type": "code",
   "execution_count": 14,
   "metadata": {},
   "outputs": [],
   "source": [
    "# writing the final dataframe to an csv file\n",
    "airBNB.to_csv('Bangkok_Listings_CSV_2023.csv', index=False)"
   ]
  }
 ],
 "metadata": {
  "kernelspec": {
   "display_name": "Python 3",
   "language": "python",
   "name": "python3"
  },
  "language_info": {
   "codemirror_mode": {
    "name": "ipython",
    "version": 3
   },
   "file_extension": ".py",
   "mimetype": "text/x-python",
   "name": "python",
   "nbconvert_exporter": "python",
   "pygments_lexer": "ipython3",
   "version": "3.11.3"
  },
  "orig_nbformat": 4
 },
 "nbformat": 4,
 "nbformat_minor": 2
}
